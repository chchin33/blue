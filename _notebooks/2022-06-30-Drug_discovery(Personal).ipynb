{
 "cells": [
  {
   "cell_type": "markdown",
   "metadata": {},
   "source": [
    "# Drug discovery (개인 정리용)\n",
    "> 2022-06-30\n",
    "\n",
    "- toc:true\n",
    "- branch: master\n",
    "- badges: true\n",
    "- comments: false\n",
    "- author: blog_owner\n"
   ]
  },
  {
   "cell_type": "markdown",
   "metadata": {},
   "source": [
    "## drug discovery and development"
   ]
  },
  {
   "cell_type": "markdown",
   "metadata": {},
   "source": [
    "`-` 갈수록 신약 개발 비용이 exponential하게 증가하고 있다는 문제가 있는데, 이는:\n",
    "- 병의 원인이 되는 단백질 (타겟 단백질) 탐색(`target identification`)\n",
    "- 타겟 단백질에 유효한 효과를 내는 화합물 탐색(`hit-identification`)\n",
    "- 이 화합물의 효과가 더 좋아지도록 구조를 변형(`lead-optimization`) \n",
    "- etc...<br/>\n",
    "$\\hspace{0cm}$과 같은 과정에서 비롯됨.\n",
    "    - 이렇게 신약을 만드는데 걸리는 시간, 비용이 대략 26억 달러 그리고 13.5년 정도...\n",
    "\n",
    "\n",
    "\n",
    "`-` 결국 신약개발에 있어서 중요한 문제는 개발 시간과 비용을 줄이는 것임\n",
    "- 제약 산업은 특히 신약 개발에서, drug discovery 과정에 많은 돈을 쓰고있음\n",
    "\n",
    "**즉, drug discovery 부분에서 개선시킬 여지가 있다는 것을 의미** "
   ]
  },
  {
   "cell_type": "markdown",
   "metadata": {},
   "source": [
    "![python image](https://img1.daumcdn.net/thumb/R1280x0/?fname=http://t1.daumcdn.net/brunch/service/user/TBQ/image/EA1laOEcv_mP3E44zrnOklxdrQ4.jpg)"
   ]
  },
  {
   "cell_type": "markdown",
   "metadata": {},
   "source": [
    "`출처:` https://brunch.co.kr/@@TBQ/19"
   ]
  },
  {
   "cell_type": "markdown",
   "metadata": {},
   "source": [
    "## AI application into drug discovery"
   ]
  },
  {
   "cell_type": "markdown",
   "metadata": {},
   "source": [
    "`기존 신약 개발 문제:` 실험으로 모든 가능한 화합물들을 만들고 확인하는건 사실상 불가능하다 보니, 지식 기반으로 사람이 처리하다보면 drug discovery 과정에서 심한 편향이 발생할 수밖에 없음"
   ]
  },
  {
   "cell_type": "markdown",
   "metadata": {},
   "source": [
    "`이 문제를 해결할 방법이 없을까?`<br/>"
   ]
  },
  {
   "cell_type": "markdown",
   "metadata": {},
   "source": [
    "**`-` AI를 통해 이 문제에 접근해 볼 수 있음**"
   ]
  },
  {
   "cell_type": "markdown",
   "metadata": {},
   "source": [
    "- 실제 drug discovery를 위해 성능좋은 AI 기반 decision maker를 개발한 사람들이 많이 있음\n",
    "- 최신 **AI 기술과 drug discovery에서의 빅 데이터를 이용할 수 있는데**, 이를 통해서 어떤 효과를 기대해볼 수 있을까?\n",
    "    - 인간이 발견하기 힘든 데이터 기반 패턴 발견 $\\rightarrow$ **위에서 말한 편향문제가 어느정도 해결될거임**.\n",
    "    - 빠르고 정확한 예측 모델을 가지고 화합물들을 빠르게 탐색 가능. $\\rightarrow$ **이는 위에서 말한 시간과 비용 절감 목적에 부합함**.\n",
    "    - AI 모델로 후보 물질 구조를 새롭게 만들고 평가 가능.\n",
    "    - 특정 병을 위한 시장에 나온 약이 다른 병에 적용가능한지 AI가 판단하는 것$\\rightarrow$ **일단 시장에 나온 시점에서 신약개발의 까다로운 과정들은 다 통과했다는 것을 의미하니까 이것도 상당한 비용절감을 기대해볼 수 있음**."
   ]
  },
  {
   "cell_type": "markdown",
   "metadata": {},
   "source": [
    "`그 외 내용들`"
   ]
  },
  {
   "cell_type": "markdown",
   "metadata": {},
   "source": [
    "논문에 소개된 AI 적용 drug discovery 영역으로는, \n",
    "- AI-guided Target Identification\n",
    "- AI-guided Hit Identification\n",
    "- ADMET Prediction\n",
    "- Lead Optimization\n",
    "- Drug Repositioning\n",
    "\n",
    "이 있었음"
   ]
  },
  {
   "cell_type": "markdown",
   "metadata": {},
   "source": [
    "`내용 출처:` Artificial Intelligence in Drug Discovery: A Comprehensive Review of Data-driven and Machine Learning Approaches의 인트로\n"
   ]
  }
 ],
 "metadata": {
  "kernelspec": {
   "display_name": "Python 3",
   "language": "python",
   "name": "python3"
  },
  "language_info": {
   "codemirror_mode": {
    "name": "ipython",
    "version": 3
   },
   "file_extension": ".py",
   "mimetype": "text/x-python",
   "name": "python",
   "nbconvert_exporter": "python",
   "pygments_lexer": "ipython3",
   "version": "3.8.5"
  }
 },
 "nbformat": 4,
 "nbformat_minor": 5
}
