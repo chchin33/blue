{
 "cells": [
  {
   "cell_type": "markdown",
   "metadata": {
    "tags": []
   },
   "source": [
    "# DeepHIT: a deep learning framework for prediction of hERG-induced cardiotoxicity (개인 정리용, 작성중)\n",
    "> 2022-07-10\n",
    "\n",
    "- toc:true\n",
    "- branch: master\n",
    "- badges: true\n",
    "- comments: false\n",
    "- categories: [Personal study]\n",
    "- author: blog_owner\n"
   ]
  },
  {
   "cell_type": "markdown",
   "metadata": {},
   "source": [
    "# Intro"
   ]
  },
  {
   "cell_type": "markdown",
   "metadata": {},
   "source": [
    "`-` hERG란?"
   ]
  },
  {
   "cell_type": "markdown",
   "metadata": {},
   "source": [
    "hERG 유전자는 심근세포의 잠재적인 재분극에 중요한 역할을 한다. 그런데 Drug discovery에서 왜 갑자기 `hERG 심장관련 얘기가 나왔는가?`라고 하면, 신약 개발 과정에서 있어서 약이 될만한 물질이 독성이 있는지 없는지를 파악하는 것은 중요한 문제이다. 우리는 여러 독성중에서도 심장 독성(Cardiotoxicity)역시 따져야하기 때문에, 이와 관련된 hERG를 따져봐야 한다."
   ]
  },
  {
   "cell_type": "markdown",
   "metadata": {},
   "source": [
    "다시 hERG로 돌아와서, 먼저 hERG channel`(자세한 의미는 잘 모른다. 일단 심장활동에 직접적인 연관이 있는 정도로 파악중...)`라는 것이 있는데, 만약 이것의 기능이 저하되면 QT interval(심장박동을 평가하는 항목 중 하나)이 길어져서 부정맥과 같은 여러 심장병을 유발할 수 있다. 이게 그냥 넘길만한 issue가 아닌 것이, 실제로 시장에 내놓기까지 했는데 심장독성으로 인하여 다시 시장에서 제외된 약들이 있다. (astemizole, terfenadine와 cisapride 가 예이다.)"
   ]
  },
  {
   "cell_type": "markdown",
   "metadata": {},
   "source": [
    "`-` The problem of traditional experiments for hERG inhibitor"
   ]
  },
  {
   "cell_type": "markdown",
   "metadata": {},
   "source": [
    "보통 이러한 독성검사는 신약개발의 후반부`(비임상 실험)`에 진행된다`(drug discovery 글의 Figure 참고)`. 만약 여태까지 후보물질 다 찾아내고 후반부의 독성평가에서 문제가 발생한다면? 여태 약 후보물질을 찾기위해 해왔던 과정 + 독성평가를 위해 해왔던 실험들이 상당한 낭비가 될 것이다. 여기서 **Compuational한 방법을 적용하면 개발 초기에 prediction을 하거나 분석을 하여 앞서 말한 상황을 방지할 수 있다. 뿐만 아니라 독성시험 자체 과정도 수많은 분자에 대해서 실험적으로 진행하게 되는데, 이러한 실험적 수고를 어느정도 덜게 된다.**"
   ]
  },
  {
   "cell_type": "markdown",
   "metadata": {},
   "source": [
    "`-` Computational methods"
   ]
  },
  {
   "cell_type": "markdown",
   "metadata": {},
   "source": [
    "Computational한 방법으로는 Random forest(Rf). Support Vector Machine(SVM), Deep Neural Network(DNN), Graph Neural Network(GNN)등이 있다. 이러한 Computational 방법들은 데이터를 기반으로 진행되므로, 데이터가 매우 중요하다고 할 수 있다. 이러한 데이터들도 기술을 발전으로 인해, 다양하고 큰 스케일의 hERG blocker과 hERG non-blocker들을 public하게 이용가능한 데이터들이 많이 나왔다."
   ]
  },
  {
   "cell_type": "markdown",
   "metadata": {},
   "source": [
    "- NPV란: https://www.google.com/search?q=NPV+%EC%84%B1%EB%8A%A5&sxsrf=ALiCzsZj8Hk7updYdB6ewMWhT1MM7w8NyA%3A1657464181880&ei=deXKYo6sNYzs-Abnj7u4Cw&ved=0ahUKEwjOuqeex-74AhUMNt4KHefHDrcQ4dUDCA4&uact=5&oq=NPV+%EC%84%B1%EB%8A%A5&gs_lcp=Cgdnd3Mtd2l6EAMyBQghEKABMgUIIRCgAToHCAAQRxCwAzoFCAAQgAQ6CggAEIAEEIcCEBRKBQg8EgExSgQIQRgASgQIRhgAUM4DWMsZYIAbaAFwAXgAgAHUAYgB9weSAQUwLjYuMZgBAKABAcgBCsABAQ&sclient=gws-wiz"
   ]
  },
  {
   "cell_type": "markdown",
   "metadata": {},
   "source": [
    "`-` Performacne of Computational methods"
   ]
  },
  {
   "cell_type": "markdown",
   "metadata": {},
   "source": [
    "앞서 Computational methods로 예측을 한다고 했다. 그러면 이 방법이 좋은 방법인지 아닌지는 어떻게 판단할까? 당연히 잘 맞출수록 좋은 모델이라고 할 수 있다.(이를 accuracy라 한다.)\n",
    "\n",
    "**하지만**, 맞추는 개수가 좋다고 꼭 좋은 모델은 아니다. 이건 상황을 잘 따져가면서 정확도에 대한 정의를 잘 해야하는데, 예를 들어 이런 상황을 생각해보자 Negative의 개수가 99개이고 positive의 개수가 1개인 데이터에 대해서, Computational model이 무조건 Negative로만 예측하면 정확률 99%를 달성할 수 있다. 하지만 이것을 좋은 모델이라 할 수 있는가? 이럴 때 Sensitivity라는 측정법을 사용하면 성능이 형편없게 나온다. 그래서 다양한 측정법들 (이를 metric이라 한다)을 상황에 맞게 사용하여아 한다.\n",
    "\n",
    "\n",
    "이번 논문에서는 `Accuracy`, `area under the receiver operating characteristic(AUROC)`, `Matthews correlation coefficient(MCC)`, `sensitivity`, `specifity`, `negative predictive value(NPV)`, `positive predictive value(PPV)` 등등을 소개한다."
   ]
  },
  {
   "cell_type": "markdown",
   "metadata": {},
   "source": [
    "- 여기 TP, FP, TN, FN 그림 넣기"
   ]
  },
  {
   "cell_type": "markdown",
   "metadata": {},
   "source": []
  },
  {
   "cell_type": "markdown",
   "metadata": {},
   "source": []
  }
 ],
 "metadata": {
  "kernelspec": {
   "display_name": "Python 3",
   "language": "python",
   "name": "python3"
  },
  "language_info": {
   "codemirror_mode": {
    "name": "ipython",
    "version": 3
   },
   "file_extension": ".py",
   "mimetype": "text/x-python",
   "name": "python",
   "nbconvert_exporter": "python",
   "pygments_lexer": "ipython3",
   "version": "3.8.5"
  }
 },
 "nbformat": 4,
 "nbformat_minor": 4
}
