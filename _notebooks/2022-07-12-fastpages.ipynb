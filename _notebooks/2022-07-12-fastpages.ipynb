{
 "cells": [
  {
   "cell_type": "markdown",
   "metadata": {
    "tags": []
   },
   "source": [
    "# fastpages 정리\n",
    "> 2022-07-12\n",
    "\n",
    "- toc:true\n",
    "- branch: master\n",
    "- badges: true\n",
    "- comments: false\n",
    "- categories: [Personal study]\n",
    "- author: blog_owner\n"
   ]
  },
  {
   "cell_type": "markdown",
   "metadata": {},
   "source": [
    "## 1. fastpage의 _notebooks 에 어떤건 포스트가 올라가고 어떤건 안올라가는 현상이 있었음\n",
    " 원인: 제목에 colon이 있었던 것, `DeepHIT: a deep learning framework for prediction of hERG-induced cardiotoxicity (개인 정리용)` 에서 `:`를 빼고 `,`로 바꾸니까 포스터가 올라가짐.\n",
    "\n",
    "- 참고한 블로그: https://github.com/fastai/fastpages/blob/master/_fastpages_docs/TROUBLESHOOTING.md"
   ]
  }
 ],
 "metadata": {
  "kernelspec": {
   "display_name": "Python 3",
   "language": "python",
   "name": "python3"
  },
  "language_info": {
   "codemirror_mode": {
    "name": "ipython",
    "version": 3
   },
   "file_extension": ".py",
   "mimetype": "text/x-python",
   "name": "python",
   "nbconvert_exporter": "python",
   "pygments_lexer": "ipython3",
   "version": "3.8.5"
  }
 },
 "nbformat": 4,
 "nbformat_minor": 4
}
